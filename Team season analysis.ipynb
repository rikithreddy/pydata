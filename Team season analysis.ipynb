{
 "cells": [
  {
   "cell_type": "code",
   "execution_count": 1,
   "metadata": {},
   "outputs": [],
   "source": [
    "import pandas as pd\n",
    "import matplotlib.pyplot as plt"
   ]
  },
  {
   "cell_type": "code",
   "execution_count": 2,
   "metadata": {},
   "outputs": [
    {
     "data": {
      "text/html": [
       "<div>\n",
       "<style scoped>\n",
       "    .dataframe tbody tr th:only-of-type {\n",
       "        vertical-align: middle;\n",
       "    }\n",
       "\n",
       "    .dataframe tbody tr th {\n",
       "        vertical-align: top;\n",
       "    }\n",
       "\n",
       "    .dataframe thead th {\n",
       "        text-align: right;\n",
       "    }\n",
       "</style>\n",
       "<table border=\"1\" class=\"dataframe\">\n",
       "  <thead>\n",
       "    <tr style=\"text-align: right;\">\n",
       "      <th></th>\n",
       "      <th>Unnamed: 0</th>\n",
       "      <th>city</th>\n",
       "      <th>date</th>\n",
       "      <th>dl_applied</th>\n",
       "      <th>eliminator</th>\n",
       "      <th>id</th>\n",
       "      <th>overs</th>\n",
       "      <th>player_of_match</th>\n",
       "      <th>result</th>\n",
       "      <th>season</th>\n",
       "      <th>...</th>\n",
       "      <th>team2</th>\n",
       "      <th>toss_decision</th>\n",
       "      <th>toss_winner</th>\n",
       "      <th>umpire1</th>\n",
       "      <th>umpire2</th>\n",
       "      <th>umpire3</th>\n",
       "      <th>venue</th>\n",
       "      <th>win_by_runs</th>\n",
       "      <th>win_by_wickets</th>\n",
       "      <th>winner</th>\n",
       "    </tr>\n",
       "  </thead>\n",
       "  <tbody>\n",
       "    <tr>\n",
       "      <th>0</th>\n",
       "      <td>0</td>\n",
       "      <td>Dharamsala</td>\n",
       "      <td>2010-04-18</td>\n",
       "      <td>NaN</td>\n",
       "      <td>NaN</td>\n",
       "      <td>419159</td>\n",
       "      <td>20</td>\n",
       "      <td>MS Dhoni</td>\n",
       "      <td>NaN</td>\n",
       "      <td>2010</td>\n",
       "      <td>...</td>\n",
       "      <td>Chennai Super Kings</td>\n",
       "      <td>field</td>\n",
       "      <td>Chennai Super Kings</td>\n",
       "      <td>BF Bowden</td>\n",
       "      <td>AM Saheba</td>\n",
       "      <td>NaN</td>\n",
       "      <td>Himachal Pradesh Cricket Association Stadium</td>\n",
       "      <td>NaN</td>\n",
       "      <td>6.0</td>\n",
       "      <td>Chennai Super Kings</td>\n",
       "    </tr>\n",
       "    <tr>\n",
       "      <th>1</th>\n",
       "      <td>1</td>\n",
       "      <td>Chennai</td>\n",
       "      <td>2010-03-31</td>\n",
       "      <td>NaN</td>\n",
       "      <td>NaN</td>\n",
       "      <td>419133</td>\n",
       "      <td>20</td>\n",
       "      <td>M Vijay</td>\n",
       "      <td>NaN</td>\n",
       "      <td>2010</td>\n",
       "      <td>...</td>\n",
       "      <td>Royal Challengers Bangalore</td>\n",
       "      <td>bat</td>\n",
       "      <td>Royal Challengers Bangalore</td>\n",
       "      <td>BG Jerling</td>\n",
       "      <td>RE Koertzen</td>\n",
       "      <td>NaN</td>\n",
       "      <td>MA Chidambaram Stadium, Chepauk</td>\n",
       "      <td>NaN</td>\n",
       "      <td>5.0</td>\n",
       "      <td>Chennai Super Kings</td>\n",
       "    </tr>\n",
       "    <tr>\n",
       "      <th>2</th>\n",
       "      <td>2</td>\n",
       "      <td>Delhi</td>\n",
       "      <td>2010-03-29</td>\n",
       "      <td>NaN</td>\n",
       "      <td>NaN</td>\n",
       "      <td>419131</td>\n",
       "      <td>20</td>\n",
       "      <td>DA Warner</td>\n",
       "      <td>NaN</td>\n",
       "      <td>2010</td>\n",
       "      <td>...</td>\n",
       "      <td>Kolkata Knight Riders</td>\n",
       "      <td>bat</td>\n",
       "      <td>Delhi Daredevils</td>\n",
       "      <td>SS Hazare</td>\n",
       "      <td>SJA Taufel</td>\n",
       "      <td>NaN</td>\n",
       "      <td>Feroz Shah Kotla</td>\n",
       "      <td>40.0</td>\n",
       "      <td>NaN</td>\n",
       "      <td>Delhi Daredevils</td>\n",
       "    </tr>\n",
       "    <tr>\n",
       "      <th>3</th>\n",
       "      <td>3</td>\n",
       "      <td>Pune</td>\n",
       "      <td>2013-04-30</td>\n",
       "      <td>NaN</td>\n",
       "      <td>NaN</td>\n",
       "      <td>598038</td>\n",
       "      <td>20</td>\n",
       "      <td>MS Dhoni</td>\n",
       "      <td>NaN</td>\n",
       "      <td>2013</td>\n",
       "      <td>...</td>\n",
       "      <td>Chennai Super Kings</td>\n",
       "      <td>bat</td>\n",
       "      <td>Chennai Super Kings</td>\n",
       "      <td>S Das</td>\n",
       "      <td>SJA Taufel</td>\n",
       "      <td>NaN</td>\n",
       "      <td>Subrata Roy Sahara Stadium</td>\n",
       "      <td>37.0</td>\n",
       "      <td>NaN</td>\n",
       "      <td>Chennai Super Kings</td>\n",
       "    </tr>\n",
       "    <tr>\n",
       "      <th>4</th>\n",
       "      <td>4</td>\n",
       "      <td>Jaipur</td>\n",
       "      <td>2012-05-13</td>\n",
       "      <td>NaN</td>\n",
       "      <td>NaN</td>\n",
       "      <td>548365</td>\n",
       "      <td>20</td>\n",
       "      <td>A Chandila</td>\n",
       "      <td>NaN</td>\n",
       "      <td>2012</td>\n",
       "      <td>...</td>\n",
       "      <td>Pune Warriors</td>\n",
       "      <td>bat</td>\n",
       "      <td>Rajasthan Royals</td>\n",
       "      <td>BF Bowden</td>\n",
       "      <td>SK Tarapore</td>\n",
       "      <td>NaN</td>\n",
       "      <td>Sawai Mansingh Stadium</td>\n",
       "      <td>45.0</td>\n",
       "      <td>NaN</td>\n",
       "      <td>Rajasthan Royals</td>\n",
       "    </tr>\n",
       "  </tbody>\n",
       "</table>\n",
       "<p>5 rows × 21 columns</p>\n",
       "</div>"
      ],
      "text/plain": [
       "   Unnamed: 0        city        date dl_applied eliminator      id  overs  \\\n",
       "0           0  Dharamsala  2010-04-18        NaN        NaN  419159     20   \n",
       "1           1     Chennai  2010-03-31        NaN        NaN  419133     20   \n",
       "2           2       Delhi  2010-03-29        NaN        NaN  419131     20   \n",
       "3           3        Pune  2013-04-30        NaN        NaN  598038     20   \n",
       "4           4      Jaipur  2012-05-13        NaN        NaN  548365     20   \n",
       "\n",
       "  player_of_match result  season         ...           \\\n",
       "0        MS Dhoni    NaN    2010         ...            \n",
       "1         M Vijay    NaN    2010         ...            \n",
       "2       DA Warner    NaN    2010         ...            \n",
       "3        MS Dhoni    NaN    2013         ...            \n",
       "4      A Chandila    NaN    2012         ...            \n",
       "\n",
       "                         team2 toss_decision                  toss_winner  \\\n",
       "0          Chennai Super Kings         field          Chennai Super Kings   \n",
       "1  Royal Challengers Bangalore           bat  Royal Challengers Bangalore   \n",
       "2        Kolkata Knight Riders           bat             Delhi Daredevils   \n",
       "3          Chennai Super Kings           bat          Chennai Super Kings   \n",
       "4                Pune Warriors           bat             Rajasthan Royals   \n",
       "\n",
       "      umpire1      umpire2 umpire3  \\\n",
       "0   BF Bowden    AM Saheba     NaN   \n",
       "1  BG Jerling  RE Koertzen     NaN   \n",
       "2   SS Hazare   SJA Taufel     NaN   \n",
       "3       S Das   SJA Taufel     NaN   \n",
       "4   BF Bowden  SK Tarapore     NaN   \n",
       "\n",
       "                                          venue win_by_runs  win_by_wickets  \\\n",
       "0  Himachal Pradesh Cricket Association Stadium         NaN             6.0   \n",
       "1               MA Chidambaram Stadium, Chepauk         NaN             5.0   \n",
       "2                              Feroz Shah Kotla        40.0             NaN   \n",
       "3                    Subrata Roy Sahara Stadium        37.0             NaN   \n",
       "4                        Sawai Mansingh Stadium        45.0             NaN   \n",
       "\n",
       "                winner  \n",
       "0  Chennai Super Kings  \n",
       "1  Chennai Super Kings  \n",
       "2     Delhi Daredevils  \n",
       "3  Chennai Super Kings  \n",
       "4     Rajasthan Royals  \n",
       "\n",
       "[5 rows x 21 columns]"
      ]
     },
     "execution_count": 2,
     "metadata": {},
     "output_type": "execute_result"
    }
   ],
   "source": [
    "matchesDf = pd.read_csv(\"data/matches.csv\")\n",
    "matchesDf.head()\n"
   ]
  },
  {
   "cell_type": "code",
   "execution_count": 3,
   "metadata": {},
   "outputs": [],
   "source": [
    "winners  = matchesDf.winner.value_counts()"
   ]
  },
  {
   "cell_type": "code",
   "execution_count": 4,
   "metadata": {},
   "outputs": [
    {
     "data": {
      "text/plain": [
       "Mumbai Indians                 104\n",
       "Chennai Super Kings             99\n",
       "Kolkata Knight Riders           91\n",
       "Royal Challengers Bangalore     82\n",
       "Kings XI Punjab                 79\n",
       "Rajasthan Royals                73\n",
       "Delhi Daredevils                67\n",
       "Sunrisers Hyderabad             57\n",
       "Deccan Chargers                 29\n",
       "Rising Pune Supergiants         15\n",
       "Gujarat Lions                   13\n",
       "Pune Warriors                   12\n",
       "Delhi Capitals                   7\n",
       "Kochi Tuskers Kerala             6\n",
       "Name: winner, dtype: int64"
      ]
     },
     "execution_count": 4,
     "metadata": {},
     "output_type": "execute_result"
    }
   ],
   "source": [
    "winners"
   ]
  },
  {
   "cell_type": "code",
   "execution_count": 5,
   "metadata": {},
   "outputs": [],
   "source": [
    "total_matches  = matchesDf.team1.value_counts() + matchesDf.team2.value_counts()"
   ]
  },
  {
   "cell_type": "code",
   "execution_count": 6,
   "metadata": {},
   "outputs": [
    {
     "data": {
      "text/plain": [
       "Royal Challengers Bangalore    97\n",
       "Kings XI Punjab                95\n",
       "Delhi Daredevils               94\n",
       "Kolkata Knight Riders          85\n",
       "Mumbai Indians                 79\n",
       "Rajasthan Royals               73\n",
       "Chennai Super Kings            61\n",
       "Sunrisers Hyderabad            48\n",
       "Deccan Chargers                46\n",
       "Pune Warriors                  34\n",
       "Gujarat Lions                  17\n",
       "Rising Pune Supergiants        15\n",
       "Kochi Tuskers Kerala            8\n",
       "Delhi Capitals                  6\n",
       "dtype: int64"
      ]
     },
     "execution_count": 6,
     "metadata": {},
     "output_type": "execute_result"
    }
   ],
   "source": [
    "losses  = total_matches - winners\n",
    "losses.sort_values(ascending=False)"
   ]
  },
  {
   "cell_type": "code",
   "execution_count": 7,
   "metadata": {},
   "outputs": [
    {
     "data": {
      "text/plain": [
       "Chennai Super Kings            56\n",
       "Mumbai Indians                 53\n",
       "Kolkata Knight Riders          52\n",
       "Rajasthan Royals               41\n",
       "Royal Challengers Bangalore    39\n",
       "Delhi Daredevils               35\n",
       "Kings XI Punjab                33\n",
       "Sunrisers Hyderabad            23\n",
       "Deccan Chargers                19\n",
       "Gujarat Lions                  10\n",
       "Rising Pune Supergiants         8\n",
       "Delhi Capitals                  5\n",
       "Kochi Tuskers Kerala            4\n",
       "Pune Warriors                   3\n",
       "Name: winner, dtype: int64"
      ]
     },
     "execution_count": 7,
     "metadata": {},
     "output_type": "execute_result"
    }
   ],
   "source": [
    "match_toss_winner = matchesDf.loc[(matchesDf.toss_winner == matchesDf.winner)][\"winner\"].value_counts()\n",
    "match_toss_winner"
   ]
  },
  {
   "cell_type": "code",
   "execution_count": 8,
   "metadata": {},
   "outputs": [
    {
     "data": {
      "text/plain": [
       "array([nan, 'Sunrisers Hyderabad', 'Rajasthan Royals',\n",
       "       'Royal Challengers Bangalore', 'Delhi Capitals', 'Mumbai Indians',\n",
       "       'Kings XI Punjab'], dtype=object)"
      ]
     },
     "execution_count": 8,
     "metadata": {},
     "output_type": "execute_result"
    }
   ],
   "source": [
    "matchesDf.eliminator.unique()"
   ]
  },
  {
   "cell_type": "code",
   "execution_count": 16,
   "metadata": {},
   "outputs": [],
   "source": [
    "matchesDf.date = pd.to_datetime(matchesDf.date)"
   ]
  },
  {
   "cell_type": "code",
   "execution_count": 25,
   "metadata": {},
   "outputs": [],
   "source": [
    "max_id  = matchesDf.groupby([\"season\"]).date.idxmax()\n",
    "winners  = matchesDf.loc[max_id].winner"
   ]
  },
  {
   "cell_type": "code",
   "execution_count": 28,
   "metadata": {},
   "outputs": [
    {
     "data": {
      "text/plain": [
       "Chennai Super Kings      4\n",
       "Mumbai Indians           3\n",
       "Kolkata Knight Riders    2\n",
       "Sunrisers Hyderabad      1\n",
       "Rajasthan Royals         1\n",
       "Deccan Chargers          1\n",
       "Name: winner, dtype: int64"
      ]
     },
     "execution_count": 28,
     "metadata": {},
     "output_type": "execute_result"
    }
   ],
   "source": [
    "winners.value_counts()"
   ]
  },
  {
   "cell_type": "code",
   "execution_count": null,
   "metadata": {},
   "outputs": [],
   "source": []
  }
 ],
 "metadata": {
  "kernelspec": {
   "display_name": "Python 3",
   "language": "python",
   "name": "python3"
  },
  "language_info": {
   "codemirror_mode": {
    "name": "ipython",
    "version": 3
   },
   "file_extension": ".py",
   "mimetype": "text/x-python",
   "name": "python",
   "nbconvert_exporter": "python",
   "pygments_lexer": "ipython3",
   "version": "3.6.5"
  }
 },
 "nbformat": 4,
 "nbformat_minor": 2
}
