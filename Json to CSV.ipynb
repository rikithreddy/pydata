{
 "cells": [
  {
   "cell_type": "code",
   "execution_count": 2,
   "metadata": {},
   "outputs": [],
   "source": [
    "import json\n",
    "import os\n",
    "import pandas as pd\n",
    "import numpy as np\n",
    "import matplotlib.pyplot as plt"
   ]
  },
  {
   "cell_type": "code",
   "execution_count": 15,
   "metadata": {},
   "outputs": [
    {
     "name": "stdout",
     "output_type": "stream",
     "text": [
      "Empty Json File = 829763_2nd_inn.json\n",
      "Empty Json File = .DS_Store\n",
      "Empty Json File = 501265_2nd_inn.json\n"
     ]
    }
   ],
   "source": [
    "\n",
    "FILE = \"../Code-and-Coffee-2/processed_data/innings/1082591_1st_inn.json\"\n",
    "INNINGS_DATA_PATH = \"../Code-and-Coffee-2/processed_data/innings/\"\n",
    "\n",
    "dataframe = []\n",
    "def to_row( data ):\n",
    "    for x, val in data.items():\n",
    "          return [\n",
    "              val[\"batsman\"],\n",
    "              val[\"bowler\"],\n",
    "              val[\"non_striker\"],\n",
    "              val[\"runs\"][\"batsman\"],\n",
    "              val[\"runs\"][\"extras\"],\n",
    "              val[\"runs\"][\"total\"]\n",
    "          ]\n",
    "def get_info(fname):\n",
    "    return  fname.split(\"_\")[0:2] \n",
    "def get_records():\n",
    "    for file in os.listdir(INNINGS_DATA_PATH):\n",
    "        with open(INNINGS_DATA_PATH+file) as f:\n",
    "            try:\n",
    "                data = json.load(f)\n",
    "                for item in data:\n",
    "                    row = get_info(file) + to_row(item)\n",
    "\n",
    "                    dataframe.append(  get_info(file)+ to_row(item))\n",
    "            except Exception:\n",
    "                print(\"Empty Json File = {}\".format(file) )\n",
    "            \n",
    "get_records()\n",
    "df  = pd.DataFrame(dataframe, columns=[\"id\", \"innings\", \"batsman\", \"bowler\",\n",
    "                                \"non-striker\", \"bat_runs\", \"extra_runs\", \"total_runs\"\n",
    "                                ])\n"
   ]
  },
  {
   "cell_type": "code",
   "execution_count": 16,
   "metadata": {},
   "outputs": [],
   "source": [
    "df.to_csv(\"./data/innings.csv\")"
   ]
  },
  {
   "cell_type": "markdown",
   "metadata": {},
   "source": [
    "# over: \n",
    "    # bat: \n",
    "    # bow:\n",
    "    # non:\n",
    "    # runs: \n",
    "        # batsman\n",
    "        # extra\n",
    "        # total\n",
    "        \n"
   ]
  }
 ],
 "metadata": {
  "kernelspec": {
   "display_name": "Python 3",
   "language": "python",
   "name": "python3"
  },
  "language_info": {
   "codemirror_mode": {
    "name": "ipython",
    "version": 3
   },
   "file_extension": ".py",
   "mimetype": "text/x-python",
   "name": "python",
   "nbconvert_exporter": "python",
   "pygments_lexer": "ipython3",
   "version": "3.6.5"
  }
 },
 "nbformat": 4,
 "nbformat_minor": 2
}
