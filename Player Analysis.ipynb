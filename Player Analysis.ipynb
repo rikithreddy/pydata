{
 "cells": [
  {
   "cell_type": "code",
   "execution_count": 1,
   "metadata": {},
   "outputs": [],
   "source": [
    "import pandas as pd\n",
    "import numpy as np\n",
    "import matplotlib.pyplot as plt\n",
    "import seaborn as sns"
   ]
  },
  {
   "cell_type": "code",
   "execution_count": 2,
   "metadata": {},
   "outputs": [
    {
     "data": {
      "text/html": [
       "<div>\n",
       "<style scoped>\n",
       "    .dataframe tbody tr th:only-of-type {\n",
       "        vertical-align: middle;\n",
       "    }\n",
       "\n",
       "    .dataframe tbody tr th {\n",
       "        vertical-align: top;\n",
       "    }\n",
       "\n",
       "    .dataframe thead th {\n",
       "        text-align: right;\n",
       "    }\n",
       "</style>\n",
       "<table border=\"1\" class=\"dataframe\">\n",
       "  <thead>\n",
       "    <tr style=\"text-align: right;\">\n",
       "      <th></th>\n",
       "      <th>id</th>\n",
       "      <th>innings</th>\n",
       "      <th>batsman</th>\n",
       "      <th>bowler</th>\n",
       "      <th>non-striker</th>\n",
       "      <th>bat_runs</th>\n",
       "      <th>extra_runs</th>\n",
       "      <th>total_runs</th>\n",
       "      <th>player_out</th>\n",
       "      <th>kind</th>\n",
       "      <th>fielders</th>\n",
       "      <th>wicket</th>\n",
       "    </tr>\n",
       "  </thead>\n",
       "  <tbody>\n",
       "    <tr>\n",
       "      <th>0</th>\n",
       "      <td>548356</td>\n",
       "      <td>1st</td>\n",
       "      <td>DJ Harris</td>\n",
       "      <td>Z Khan</td>\n",
       "      <td>S Dhawan</td>\n",
       "      <td>1</td>\n",
       "      <td>0</td>\n",
       "      <td>1</td>\n",
       "      <td>NaN</td>\n",
       "      <td>NaN</td>\n",
       "      <td>NaN</td>\n",
       "      <td>False</td>\n",
       "    </tr>\n",
       "    <tr>\n",
       "      <th>1</th>\n",
       "      <td>548356</td>\n",
       "      <td>1st</td>\n",
       "      <td>S Dhawan</td>\n",
       "      <td>Z Khan</td>\n",
       "      <td>DJ Harris</td>\n",
       "      <td>4</td>\n",
       "      <td>0</td>\n",
       "      <td>4</td>\n",
       "      <td>NaN</td>\n",
       "      <td>NaN</td>\n",
       "      <td>NaN</td>\n",
       "      <td>False</td>\n",
       "    </tr>\n",
       "    <tr>\n",
       "      <th>2</th>\n",
       "      <td>548356</td>\n",
       "      <td>1st</td>\n",
       "      <td>S Dhawan</td>\n",
       "      <td>Z Khan</td>\n",
       "      <td>DJ Harris</td>\n",
       "      <td>0</td>\n",
       "      <td>0</td>\n",
       "      <td>0</td>\n",
       "      <td>NaN</td>\n",
       "      <td>NaN</td>\n",
       "      <td>NaN</td>\n",
       "      <td>False</td>\n",
       "    </tr>\n",
       "    <tr>\n",
       "      <th>3</th>\n",
       "      <td>548356</td>\n",
       "      <td>1st</td>\n",
       "      <td>S Dhawan</td>\n",
       "      <td>Z Khan</td>\n",
       "      <td>DJ Harris</td>\n",
       "      <td>0</td>\n",
       "      <td>1</td>\n",
       "      <td>1</td>\n",
       "      <td>NaN</td>\n",
       "      <td>NaN</td>\n",
       "      <td>NaN</td>\n",
       "      <td>False</td>\n",
       "    </tr>\n",
       "    <tr>\n",
       "      <th>4</th>\n",
       "      <td>548356</td>\n",
       "      <td>1st</td>\n",
       "      <td>S Dhawan</td>\n",
       "      <td>Z Khan</td>\n",
       "      <td>DJ Harris</td>\n",
       "      <td>4</td>\n",
       "      <td>0</td>\n",
       "      <td>4</td>\n",
       "      <td>NaN</td>\n",
       "      <td>NaN</td>\n",
       "      <td>NaN</td>\n",
       "      <td>False</td>\n",
       "    </tr>\n",
       "  </tbody>\n",
       "</table>\n",
       "</div>"
      ],
      "text/plain": [
       "       id innings    batsman  bowler non-striker  bat_runs  extra_runs  \\\n",
       "0  548356     1st  DJ Harris  Z Khan    S Dhawan         1           0   \n",
       "1  548356     1st   S Dhawan  Z Khan   DJ Harris         4           0   \n",
       "2  548356     1st   S Dhawan  Z Khan   DJ Harris         0           0   \n",
       "3  548356     1st   S Dhawan  Z Khan   DJ Harris         0           1   \n",
       "4  548356     1st   S Dhawan  Z Khan   DJ Harris         4           0   \n",
       "\n",
       "   total_runs player_out kind fielders  wicket  \n",
       "0           1        NaN  NaN      NaN   False  \n",
       "1           4        NaN  NaN      NaN   False  \n",
       "2           0        NaN  NaN      NaN   False  \n",
       "3           1        NaN  NaN      NaN   False  \n",
       "4           4        NaN  NaN      NaN   False  "
      ]
     },
     "execution_count": 2,
     "metadata": {},
     "output_type": "execute_result"
    }
   ],
   "source": [
    "inningsDf = pd.read_csv(\"./data/innings.csv\")\n",
    "inningsDf = inningsDf.drop(inningsDf.columns[0], axis=1)\n",
    "\n",
    "inningsDf.head()"
   ]
  },
  {
   "cell_type": "code",
   "execution_count": 3,
   "metadata": {},
   "outputs": [
    {
     "data": {
      "text/plain": [
       "Index(['id', 'innings', 'batsman', 'bowler', 'non-striker', 'bat_runs',\n",
       "       'extra_runs', 'total_runs', 'player_out', 'kind', 'fielders', 'wicket'],\n",
       "      dtype='object')"
      ]
     },
     "execution_count": 3,
     "metadata": {},
     "output_type": "execute_result"
    }
   ],
   "source": [
    "inningsDf.columns"
   ]
  },
  {
   "cell_type": "code",
   "execution_count": 4,
   "metadata": {},
   "outputs": [],
   "source": [
    "total_runs = inningsDf.groupby([\"batsman\"])[\"bat_runs\"].sum()\n",
    "total_balls = inningsDf.groupby([\"batsman\"])[\"bat_runs\"].count()"
   ]
  },
  {
   "cell_type": "code",
   "execution_count": 5,
   "metadata": {},
   "outputs": [
    {
     "data": {
      "text/plain": [
       "batsman\n",
       "V Kohli      5396\n",
       "SK Raina     5291\n",
       "RG Sharma    4800\n",
       "DA Warner    4706\n",
       "S Dhawan     4528\n",
       "Name: bat_runs, dtype: int64"
      ]
     },
     "execution_count": 5,
     "metadata": {},
     "output_type": "execute_result"
    }
   ],
   "source": [
    "total_runs.nlargest()"
   ]
  },
  {
   "cell_type": "code",
   "execution_count": 6,
   "metadata": {},
   "outputs": [
    {
     "data": {
      "text/plain": [
       "batsman\n",
       "V Kohli      4202\n",
       "SK Raina     3968\n",
       "RG Sharma    3732\n",
       "S Dhawan     3732\n",
       "G Gambhir    3524\n",
       "Name: bat_runs, dtype: int64"
      ]
     },
     "execution_count": 6,
     "metadata": {},
     "output_type": "execute_result"
    }
   ],
   "source": [
    "total_balls.nlargest()"
   ]
  },
  {
   "cell_type": "code",
   "execution_count": 7,
   "metadata": {},
   "outputs": [
    {
     "data": {
      "text/plain": [
       "batsman\n",
       "B Stanlake       250.000000\n",
       "Umar Gul         205.263158\n",
       "RS Sodhi         200.000000\n",
       "SE Rutherford    179.166667\n",
       "SN Thakur        178.947368\n",
       "Name: bat_runs, dtype: float64"
      ]
     },
     "execution_count": 7,
     "metadata": {},
     "output_type": "execute_result"
    }
   ],
   "source": [
    "strike_rate = total_runs*100/total_balls \n",
    "strike_rate.nlargest(5)"
   ]
  },
  {
   "cell_type": "code",
   "execution_count": 8,
   "metadata": {},
   "outputs": [],
   "source": [
    "per_ball_stats = inningsDf.groupby([\"batsman\"])[\"bat_runs\"].value_counts().rename(\"stats\")\n",
    "# per_ball_stats\n",
    "per_ball_stats_df = per_ball_stats.to_frame().reset_index()"
   ]
  },
  {
   "cell_type": "code",
   "execution_count": 9,
   "metadata": {},
   "outputs": [
    {
     "data": {
      "text/html": [
       "<div>\n",
       "<style scoped>\n",
       "    .dataframe tbody tr th:only-of-type {\n",
       "        vertical-align: middle;\n",
       "    }\n",
       "\n",
       "    .dataframe tbody tr th {\n",
       "        vertical-align: top;\n",
       "    }\n",
       "\n",
       "    .dataframe thead th {\n",
       "        text-align: right;\n",
       "    }\n",
       "</style>\n",
       "<table border=\"1\" class=\"dataframe\">\n",
       "  <thead>\n",
       "    <tr style=\"text-align: right;\">\n",
       "      <th></th>\n",
       "      <th>batsman</th>\n",
       "      <th>bat_runs</th>\n",
       "      <th>stats</th>\n",
       "    </tr>\n",
       "  </thead>\n",
       "  <tbody>\n",
       "    <tr>\n",
       "      <th>1812</th>\n",
       "      <td>S Dhawan</td>\n",
       "      <td>4</td>\n",
       "      <td>516</td>\n",
       "    </tr>\n",
       "    <tr>\n",
       "      <th>669</th>\n",
       "      <td>G Gambhir</td>\n",
       "      <td>4</td>\n",
       "      <td>492</td>\n",
       "    </tr>\n",
       "    <tr>\n",
       "      <th>1941</th>\n",
       "      <td>SK Raina</td>\n",
       "      <td>4</td>\n",
       "      <td>487</td>\n",
       "    </tr>\n",
       "    <tr>\n",
       "      <th>2225</th>\n",
       "      <td>V Kohli</td>\n",
       "      <td>4</td>\n",
       "      <td>479</td>\n",
       "    </tr>\n",
       "    <tr>\n",
       "      <th>493</th>\n",
       "      <td>DA Warner</td>\n",
       "      <td>4</td>\n",
       "      <td>458</td>\n",
       "    </tr>\n",
       "  </tbody>\n",
       "</table>\n",
       "</div>"
      ],
      "text/plain": [
       "        batsman  bat_runs  stats\n",
       "1812   S Dhawan         4    516\n",
       "669   G Gambhir         4    492\n",
       "1941   SK Raina         4    487\n",
       "2225    V Kohli         4    479\n",
       "493   DA Warner         4    458"
      ]
     },
     "execution_count": 9,
     "metadata": {},
     "output_type": "execute_result"
    }
   ],
   "source": [
    "def ball_stats(n, df):\n",
    "    return df[per_ball_stats_df.bat_runs == n \n",
    "             ].sort_values([\"stats\"], ascending = [0])\n",
    "ball_stats(4, per_ball_stats_df).head(5)"
   ]
  },
  {
   "cell_type": "code",
   "execution_count": 12,
   "metadata": {},
   "outputs": [
    {
     "data": {
      "text/plain": [
       "array(['run out', 'caught and bowled', 'caught', 'bowled', 'lbw',\n",
       "       'stumped', 'hit wicket', 'retired hurt', 'obstructing the field'],\n",
       "      dtype=object)"
      ]
     },
     "execution_count": 12,
     "metadata": {},
     "output_type": "execute_result"
    }
   ],
   "source": [
    "inningsDf[inningsDf.wicket].kind.unique()"
   ]
  },
  {
   "cell_type": "code",
   "execution_count": 23,
   "metadata": {},
   "outputs": [],
   "source": [
    "wicketsDf = inningsDf[inningsDf.wicket]\n",
    "bowler_wickets_df = wicketsDf[~wicketsDf.kind.isin( ['run out',\n",
    "                             'retired hurt', 'obstructing the field'])]\n"
   ]
  },
  {
   "cell_type": "code",
   "execution_count": 30,
   "metadata": {},
   "outputs": [
    {
     "data": {
      "text/plain": [
       "bowler\n",
       "SL Malinga         166\n",
       "A Mishra           152\n",
       "PP Chawla          150\n",
       "DJ Bravo           145\n",
       "Harbhajan Singh    144\n",
       "Name: wicket, dtype: int64"
      ]
     },
     "execution_count": 30,
     "metadata": {},
     "output_type": "execute_result"
    }
   ],
   "source": [
    "total_wickets = bowler_wickets_df.groupby([\"bowler\"])[\"wicket\"].count()\n",
    "total_wickets.nlargest()"
   ]
  },
  {
   "cell_type": "code",
   "execution_count": null,
   "metadata": {},
   "outputs": [],
   "source": []
  },
  {
   "cell_type": "code",
   "execution_count": null,
   "metadata": {},
   "outputs": [],
   "source": []
  },
  {
   "cell_type": "code",
   "execution_count": null,
   "metadata": {},
   "outputs": [],
   "source": []
  }
 ],
 "metadata": {
  "kernelspec": {
   "display_name": "Python 3",
   "language": "python",
   "name": "python3"
  },
  "language_info": {
   "codemirror_mode": {
    "name": "ipython",
    "version": 3
   },
   "file_extension": ".py",
   "mimetype": "text/x-python",
   "name": "python",
   "nbconvert_exporter": "python",
   "pygments_lexer": "ipython3",
   "version": "3.6.5"
  }
 },
 "nbformat": 4,
 "nbformat_minor": 2
}
