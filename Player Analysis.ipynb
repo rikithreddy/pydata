{
 "cells": [
  {
   "cell_type": "code",
   "execution_count": 2,
   "metadata": {},
   "outputs": [],
   "source": [
    "import pandas as pd\n",
    "import numpy as np\n",
    "import matplotlib.pyplot as plt\n",
    "import seaborn as sns\n"
   ]
  },
  {
   "cell_type": "code",
   "execution_count": 3,
   "metadata": {},
   "outputs": [
    {
     "data": {
      "text/html": [
       "<div>\n",
       "<style scoped>\n",
       "    .dataframe tbody tr th:only-of-type {\n",
       "        vertical-align: middle;\n",
       "    }\n",
       "\n",
       "    .dataframe tbody tr th {\n",
       "        vertical-align: top;\n",
       "    }\n",
       "\n",
       "    .dataframe thead th {\n",
       "        text-align: right;\n",
       "    }\n",
       "</style>\n",
       "<table border=\"1\" class=\"dataframe\">\n",
       "  <thead>\n",
       "    <tr style=\"text-align: right;\">\n",
       "      <th></th>\n",
       "      <th>id</th>\n",
       "      <th>innings</th>\n",
       "      <th>batsman</th>\n",
       "      <th>bowler</th>\n",
       "      <th>non-striker</th>\n",
       "      <th>bat_runs</th>\n",
       "      <th>extra_runs</th>\n",
       "      <th>total_runs</th>\n",
       "      <th>player_out</th>\n",
       "      <th>kind</th>\n",
       "      <th>fielders</th>\n",
       "      <th>wicket</th>\n",
       "    </tr>\n",
       "  </thead>\n",
       "  <tbody>\n",
       "    <tr>\n",
       "      <th>0</th>\n",
       "      <td>548356</td>\n",
       "      <td>1st</td>\n",
       "      <td>DJ Harris</td>\n",
       "      <td>Z Khan</td>\n",
       "      <td>S Dhawan</td>\n",
       "      <td>1</td>\n",
       "      <td>0</td>\n",
       "      <td>1</td>\n",
       "      <td>NaN</td>\n",
       "      <td>NaN</td>\n",
       "      <td>NaN</td>\n",
       "      <td>False</td>\n",
       "    </tr>\n",
       "    <tr>\n",
       "      <th>1</th>\n",
       "      <td>548356</td>\n",
       "      <td>1st</td>\n",
       "      <td>S Dhawan</td>\n",
       "      <td>Z Khan</td>\n",
       "      <td>DJ Harris</td>\n",
       "      <td>4</td>\n",
       "      <td>0</td>\n",
       "      <td>4</td>\n",
       "      <td>NaN</td>\n",
       "      <td>NaN</td>\n",
       "      <td>NaN</td>\n",
       "      <td>False</td>\n",
       "    </tr>\n",
       "    <tr>\n",
       "      <th>2</th>\n",
       "      <td>548356</td>\n",
       "      <td>1st</td>\n",
       "      <td>S Dhawan</td>\n",
       "      <td>Z Khan</td>\n",
       "      <td>DJ Harris</td>\n",
       "      <td>0</td>\n",
       "      <td>0</td>\n",
       "      <td>0</td>\n",
       "      <td>NaN</td>\n",
       "      <td>NaN</td>\n",
       "      <td>NaN</td>\n",
       "      <td>False</td>\n",
       "    </tr>\n",
       "    <tr>\n",
       "      <th>3</th>\n",
       "      <td>548356</td>\n",
       "      <td>1st</td>\n",
       "      <td>S Dhawan</td>\n",
       "      <td>Z Khan</td>\n",
       "      <td>DJ Harris</td>\n",
       "      <td>0</td>\n",
       "      <td>1</td>\n",
       "      <td>1</td>\n",
       "      <td>NaN</td>\n",
       "      <td>NaN</td>\n",
       "      <td>NaN</td>\n",
       "      <td>False</td>\n",
       "    </tr>\n",
       "    <tr>\n",
       "      <th>4</th>\n",
       "      <td>548356</td>\n",
       "      <td>1st</td>\n",
       "      <td>S Dhawan</td>\n",
       "      <td>Z Khan</td>\n",
       "      <td>DJ Harris</td>\n",
       "      <td>4</td>\n",
       "      <td>0</td>\n",
       "      <td>4</td>\n",
       "      <td>NaN</td>\n",
       "      <td>NaN</td>\n",
       "      <td>NaN</td>\n",
       "      <td>False</td>\n",
       "    </tr>\n",
       "  </tbody>\n",
       "</table>\n",
       "</div>"
      ],
      "text/plain": [
       "       id innings    batsman  bowler non-striker  bat_runs  extra_runs  \\\n",
       "0  548356     1st  DJ Harris  Z Khan    S Dhawan         1           0   \n",
       "1  548356     1st   S Dhawan  Z Khan   DJ Harris         4           0   \n",
       "2  548356     1st   S Dhawan  Z Khan   DJ Harris         0           0   \n",
       "3  548356     1st   S Dhawan  Z Khan   DJ Harris         0           1   \n",
       "4  548356     1st   S Dhawan  Z Khan   DJ Harris         4           0   \n",
       "\n",
       "   total_runs player_out kind fielders  wicket  \n",
       "0           1        NaN  NaN      NaN   False  \n",
       "1           4        NaN  NaN      NaN   False  \n",
       "2           0        NaN  NaN      NaN   False  \n",
       "3           1        NaN  NaN      NaN   False  \n",
       "4           4        NaN  NaN      NaN   False  "
      ]
     },
     "execution_count": 3,
     "metadata": {},
     "output_type": "execute_result"
    }
   ],
   "source": [
    "inningsDf = pd.read_csv(\"./data/innings.csv\")\n",
    "inningsDf = inningsDf.drop(inningsDf.columns[0], axis=1)\n",
    "\n",
    "inningsDf.head()"
   ]
  },
  {
   "cell_type": "code",
   "execution_count": 4,
   "metadata": {},
   "outputs": [
    {
     "data": {
      "text/plain": [
       "Index(['id', 'innings', 'batsman', 'bowler', 'non-striker', 'bat_runs',\n",
       "       'extra_runs', 'total_runs', 'player_out', 'kind', 'fielders', 'wicket'],\n",
       "      dtype='object')"
      ]
     },
     "execution_count": 4,
     "metadata": {},
     "output_type": "execute_result"
    }
   ],
   "source": [
    "inningsDf.columns"
   ]
  },
  {
   "cell_type": "code",
   "execution_count": 5,
   "metadata": {},
   "outputs": [],
   "source": [
    "total_runs = inningsDf.groupby([\"batsman\"])[\"bat_runs\"].sum()\n",
    "total_balls = inningsDf.groupby([\"batsman\"])[\"bat_runs\"].count()"
   ]
  },
  {
   "cell_type": "code",
   "execution_count": 6,
   "metadata": {},
   "outputs": [
    {
     "data": {
      "text/plain": [
       "batsman\n",
       "V Kohli      5396\n",
       "SK Raina     5291\n",
       "RG Sharma    4800\n",
       "DA Warner    4706\n",
       "S Dhawan     4528\n",
       "Name: bat_runs, dtype: int64"
      ]
     },
     "execution_count": 6,
     "metadata": {},
     "output_type": "execute_result"
    }
   ],
   "source": [
    "total_runs.nlargest()"
   ]
  },
  {
   "cell_type": "code",
   "execution_count": 7,
   "metadata": {},
   "outputs": [
    {
     "data": {
      "text/plain": [
       "batsman\n",
       "V Kohli      4202\n",
       "SK Raina     3968\n",
       "RG Sharma    3732\n",
       "S Dhawan     3732\n",
       "G Gambhir    3524\n",
       "Name: bat_runs, dtype: int64"
      ]
     },
     "execution_count": 7,
     "metadata": {},
     "output_type": "execute_result"
    }
   ],
   "source": [
    "total_balls.nlargest()"
   ]
  },
  {
   "cell_type": "code",
   "execution_count": 8,
   "metadata": {},
   "outputs": [
    {
     "data": {
      "text/plain": [
       "batsman\n",
       "B Stanlake       250.000000\n",
       "Umar Gul         205.263158\n",
       "RS Sodhi         200.000000\n",
       "SE Rutherford    179.166667\n",
       "SN Thakur        178.947368\n",
       "Name: bat_runs, dtype: float64"
      ]
     },
     "execution_count": 8,
     "metadata": {},
     "output_type": "execute_result"
    }
   ],
   "source": [
    "strike_rate = total_runs*100/total_balls \n",
    "strike_rate.nlargest(5)"
   ]
  },
  {
   "cell_type": "code",
   "execution_count": 9,
   "metadata": {},
   "outputs": [],
   "source": [
    "per_ball_stats = inningsDf.groupby([\"batsman\"])[\"bat_runs\"].value_counts().rename(\"stats\")\n",
    "# per_ball_stats\n",
    "per_ball_stats_df = per_ball_stats.to_frame().reset_index()"
   ]
  },
  {
   "cell_type": "code",
   "execution_count": 10,
   "metadata": {},
   "outputs": [
    {
     "data": {
      "text/html": [
       "<div>\n",
       "<style scoped>\n",
       "    .dataframe tbody tr th:only-of-type {\n",
       "        vertical-align: middle;\n",
       "    }\n",
       "\n",
       "    .dataframe tbody tr th {\n",
       "        vertical-align: top;\n",
       "    }\n",
       "\n",
       "    .dataframe thead th {\n",
       "        text-align: right;\n",
       "    }\n",
       "</style>\n",
       "<table border=\"1\" class=\"dataframe\">\n",
       "  <thead>\n",
       "    <tr style=\"text-align: right;\">\n",
       "      <th></th>\n",
       "      <th>batsman</th>\n",
       "      <th>bat_runs</th>\n",
       "      <th>stats</th>\n",
       "    </tr>\n",
       "  </thead>\n",
       "  <tbody>\n",
       "    <tr>\n",
       "      <th>1812</th>\n",
       "      <td>S Dhawan</td>\n",
       "      <td>4</td>\n",
       "      <td>516</td>\n",
       "    </tr>\n",
       "    <tr>\n",
       "      <th>669</th>\n",
       "      <td>G Gambhir</td>\n",
       "      <td>4</td>\n",
       "      <td>492</td>\n",
       "    </tr>\n",
       "    <tr>\n",
       "      <th>1941</th>\n",
       "      <td>SK Raina</td>\n",
       "      <td>4</td>\n",
       "      <td>487</td>\n",
       "    </tr>\n",
       "    <tr>\n",
       "      <th>2225</th>\n",
       "      <td>V Kohli</td>\n",
       "      <td>4</td>\n",
       "      <td>479</td>\n",
       "    </tr>\n",
       "    <tr>\n",
       "      <th>493</th>\n",
       "      <td>DA Warner</td>\n",
       "      <td>4</td>\n",
       "      <td>458</td>\n",
       "    </tr>\n",
       "  </tbody>\n",
       "</table>\n",
       "</div>"
      ],
      "text/plain": [
       "        batsman  bat_runs  stats\n",
       "1812   S Dhawan         4    516\n",
       "669   G Gambhir         4    492\n",
       "1941   SK Raina         4    487\n",
       "2225    V Kohli         4    479\n",
       "493   DA Warner         4    458"
      ]
     },
     "execution_count": 10,
     "metadata": {},
     "output_type": "execute_result"
    }
   ],
   "source": [
    "def ball_stats(n, df):\n",
    "    return df[per_ball_stats_df.bat_runs == n \n",
    "             ].sort_values([\"stats\"], ascending = [0])\n",
    "ball_stats(4, per_ball_stats_df).head(5)"
   ]
  },
  {
   "cell_type": "code",
   "execution_count": 11,
   "metadata": {},
   "outputs": [
    {
     "data": {
      "text/plain": [
       "array(['run out', 'caught and bowled', 'caught', 'bowled', 'lbw',\n",
       "       'stumped', 'hit wicket', 'retired hurt', 'obstructing the field'],\n",
       "      dtype=object)"
      ]
     },
     "execution_count": 11,
     "metadata": {},
     "output_type": "execute_result"
    }
   ],
   "source": [
    "inningsDf[inningsDf.wicket].kind.unique()"
   ]
  },
  {
   "cell_type": "code",
   "execution_count": 12,
   "metadata": {},
   "outputs": [],
   "source": [
    "wicketsDf = inningsDf[inningsDf.wicket]\n",
    "bowler_wickets_df = wicketsDf[~wicketsDf.kind.isin( ['run out',\n",
    "                             'retired hurt', 'obstructing the field'])]\n"
   ]
  },
  {
   "cell_type": "code",
   "execution_count": 14,
   "metadata": {},
   "outputs": [
    {
     "data": {
      "text/plain": [
       "bowler\n",
       "SL Malinga         166\n",
       "A Mishra           152\n",
       "PP Chawla          150\n",
       "DJ Bravo           145\n",
       "Harbhajan Singh    144\n",
       "Name: wicket, dtype: int64"
      ]
     },
     "execution_count": 14,
     "metadata": {},
     "output_type": "execute_result"
    }
   ],
   "source": [
    "total_wickets = bowler_wickets_df.groupby([\"bowler\"])[\"wicket\"].count()\n",
    "total_wickets.nlargest()"
   ]
  },
  {
   "cell_type": "code",
   "execution_count": 15,
   "metadata": {},
   "outputs": [
    {
     "data": {
      "text/plain": [
       "bowler\n",
       "AC Gilchrist    0.000000\n",
       "NB Singh        4.320000\n",
       "S Dube          4.363636\n",
       "AS Roy          4.400000\n",
       "Sachin Baby     4.800000\n",
       "Name: total_runs, dtype: float64"
      ]
     },
     "execution_count": 15,
     "metadata": {},
     "output_type": "execute_result"
    }
   ],
   "source": [
    "total_runs_bowler = inningsDf.groupby([\"bowler\"])[\"total_runs\"].sum()\n",
    "total_balls_bowler = inningsDf.groupby([\"bowler\"])[\"total_runs\"].count()\n",
    "economy = (total_runs_bowler*6) / total_balls_bowler\n",
    "economy.nsmallest()"
   ]
  },
  {
   "cell_type": "code",
   "execution_count": 16,
   "metadata": {},
   "outputs": [
    {
     "data": {
      "text/html": [
       "<div>\n",
       "<style scoped>\n",
       "    .dataframe tbody tr th:only-of-type {\n",
       "        vertical-align: middle;\n",
       "    }\n",
       "\n",
       "    .dataframe tbody tr th {\n",
       "        vertical-align: top;\n",
       "    }\n",
       "\n",
       "    .dataframe thead th {\n",
       "        text-align: right;\n",
       "    }\n",
       "</style>\n",
       "<table border=\"1\" class=\"dataframe\">\n",
       "  <thead>\n",
       "    <tr style=\"text-align: right;\">\n",
       "      <th></th>\n",
       "      <th>city</th>\n",
       "      <th>date</th>\n",
       "      <th>dl_applied</th>\n",
       "      <th>eliminator</th>\n",
       "      <th>id</th>\n",
       "      <th>overs</th>\n",
       "      <th>player_of_match</th>\n",
       "      <th>result</th>\n",
       "      <th>season</th>\n",
       "      <th>team1</th>\n",
       "      <th>team2</th>\n",
       "      <th>toss_decision</th>\n",
       "      <th>toss_winner</th>\n",
       "      <th>umpire1</th>\n",
       "      <th>umpire2</th>\n",
       "      <th>umpire3</th>\n",
       "      <th>venue</th>\n",
       "      <th>win_by_runs</th>\n",
       "      <th>win_by_wickets</th>\n",
       "      <th>winner</th>\n",
       "    </tr>\n",
       "  </thead>\n",
       "  <tbody>\n",
       "    <tr>\n",
       "      <th>0</th>\n",
       "      <td>Dharamsala</td>\n",
       "      <td>2010-04-18</td>\n",
       "      <td>NaN</td>\n",
       "      <td>NaN</td>\n",
       "      <td>419159</td>\n",
       "      <td>20</td>\n",
       "      <td>MS Dhoni</td>\n",
       "      <td>NaN</td>\n",
       "      <td>2010</td>\n",
       "      <td>Kings XI Punjab</td>\n",
       "      <td>Chennai Super Kings</td>\n",
       "      <td>field</td>\n",
       "      <td>Chennai Super Kings</td>\n",
       "      <td>BF Bowden</td>\n",
       "      <td>AM Saheba</td>\n",
       "      <td>NaN</td>\n",
       "      <td>Himachal Pradesh Cricket Association Stadium</td>\n",
       "      <td>NaN</td>\n",
       "      <td>6.0</td>\n",
       "      <td>Chennai Super Kings</td>\n",
       "    </tr>\n",
       "    <tr>\n",
       "      <th>1</th>\n",
       "      <td>Chennai</td>\n",
       "      <td>2010-03-31</td>\n",
       "      <td>NaN</td>\n",
       "      <td>NaN</td>\n",
       "      <td>419133</td>\n",
       "      <td>20</td>\n",
       "      <td>M Vijay</td>\n",
       "      <td>NaN</td>\n",
       "      <td>2010</td>\n",
       "      <td>Chennai Super Kings</td>\n",
       "      <td>Royal Challengers Bangalore</td>\n",
       "      <td>bat</td>\n",
       "      <td>Royal Challengers Bangalore</td>\n",
       "      <td>BG Jerling</td>\n",
       "      <td>RE Koertzen</td>\n",
       "      <td>NaN</td>\n",
       "      <td>MA Chidambaram Stadium, Chepauk</td>\n",
       "      <td>NaN</td>\n",
       "      <td>5.0</td>\n",
       "      <td>Chennai Super Kings</td>\n",
       "    </tr>\n",
       "    <tr>\n",
       "      <th>2</th>\n",
       "      <td>Delhi</td>\n",
       "      <td>2010-03-29</td>\n",
       "      <td>NaN</td>\n",
       "      <td>NaN</td>\n",
       "      <td>419131</td>\n",
       "      <td>20</td>\n",
       "      <td>DA Warner</td>\n",
       "      <td>NaN</td>\n",
       "      <td>2010</td>\n",
       "      <td>Delhi Daredevils</td>\n",
       "      <td>Kolkata Knight Riders</td>\n",
       "      <td>bat</td>\n",
       "      <td>Delhi Daredevils</td>\n",
       "      <td>SS Hazare</td>\n",
       "      <td>SJA Taufel</td>\n",
       "      <td>NaN</td>\n",
       "      <td>Feroz Shah Kotla</td>\n",
       "      <td>40.0</td>\n",
       "      <td>NaN</td>\n",
       "      <td>Delhi Daredevils</td>\n",
       "    </tr>\n",
       "    <tr>\n",
       "      <th>3</th>\n",
       "      <td>Pune</td>\n",
       "      <td>2013-04-30</td>\n",
       "      <td>NaN</td>\n",
       "      <td>NaN</td>\n",
       "      <td>598038</td>\n",
       "      <td>20</td>\n",
       "      <td>MS Dhoni</td>\n",
       "      <td>NaN</td>\n",
       "      <td>2013</td>\n",
       "      <td>Pune Warriors</td>\n",
       "      <td>Chennai Super Kings</td>\n",
       "      <td>bat</td>\n",
       "      <td>Chennai Super Kings</td>\n",
       "      <td>S Das</td>\n",
       "      <td>SJA Taufel</td>\n",
       "      <td>NaN</td>\n",
       "      <td>Subrata Roy Sahara Stadium</td>\n",
       "      <td>37.0</td>\n",
       "      <td>NaN</td>\n",
       "      <td>Chennai Super Kings</td>\n",
       "    </tr>\n",
       "    <tr>\n",
       "      <th>4</th>\n",
       "      <td>Jaipur</td>\n",
       "      <td>2012-05-13</td>\n",
       "      <td>NaN</td>\n",
       "      <td>NaN</td>\n",
       "      <td>548365</td>\n",
       "      <td>20</td>\n",
       "      <td>A Chandila</td>\n",
       "      <td>NaN</td>\n",
       "      <td>2012</td>\n",
       "      <td>Rajasthan Royals</td>\n",
       "      <td>Pune Warriors</td>\n",
       "      <td>bat</td>\n",
       "      <td>Rajasthan Royals</td>\n",
       "      <td>BF Bowden</td>\n",
       "      <td>SK Tarapore</td>\n",
       "      <td>NaN</td>\n",
       "      <td>Sawai Mansingh Stadium</td>\n",
       "      <td>45.0</td>\n",
       "      <td>NaN</td>\n",
       "      <td>Rajasthan Royals</td>\n",
       "    </tr>\n",
       "  </tbody>\n",
       "</table>\n",
       "</div>"
      ],
      "text/plain": [
       "         city        date dl_applied eliminator      id  overs  \\\n",
       "0  Dharamsala  2010-04-18        NaN        NaN  419159     20   \n",
       "1     Chennai  2010-03-31        NaN        NaN  419133     20   \n",
       "2       Delhi  2010-03-29        NaN        NaN  419131     20   \n",
       "3        Pune  2013-04-30        NaN        NaN  598038     20   \n",
       "4      Jaipur  2012-05-13        NaN        NaN  548365     20   \n",
       "\n",
       "  player_of_match result  season                team1  \\\n",
       "0        MS Dhoni    NaN    2010      Kings XI Punjab   \n",
       "1         M Vijay    NaN    2010  Chennai Super Kings   \n",
       "2       DA Warner    NaN    2010     Delhi Daredevils   \n",
       "3        MS Dhoni    NaN    2013        Pune Warriors   \n",
       "4      A Chandila    NaN    2012     Rajasthan Royals   \n",
       "\n",
       "                         team2 toss_decision                  toss_winner  \\\n",
       "0          Chennai Super Kings         field          Chennai Super Kings   \n",
       "1  Royal Challengers Bangalore           bat  Royal Challengers Bangalore   \n",
       "2        Kolkata Knight Riders           bat             Delhi Daredevils   \n",
       "3          Chennai Super Kings           bat          Chennai Super Kings   \n",
       "4                Pune Warriors           bat             Rajasthan Royals   \n",
       "\n",
       "      umpire1      umpire2 umpire3  \\\n",
       "0   BF Bowden    AM Saheba     NaN   \n",
       "1  BG Jerling  RE Koertzen     NaN   \n",
       "2   SS Hazare   SJA Taufel     NaN   \n",
       "3       S Das   SJA Taufel     NaN   \n",
       "4   BF Bowden  SK Tarapore     NaN   \n",
       "\n",
       "                                          venue  win_by_runs  win_by_wickets  \\\n",
       "0  Himachal Pradesh Cricket Association Stadium          NaN             6.0   \n",
       "1               MA Chidambaram Stadium, Chepauk          NaN             5.0   \n",
       "2                              Feroz Shah Kotla         40.0             NaN   \n",
       "3                    Subrata Roy Sahara Stadium         37.0             NaN   \n",
       "4                        Sawai Mansingh Stadium         45.0             NaN   \n",
       "\n",
       "                winner  \n",
       "0  Chennai Super Kings  \n",
       "1  Chennai Super Kings  \n",
       "2     Delhi Daredevils  \n",
       "3  Chennai Super Kings  \n",
       "4     Rajasthan Royals  "
      ]
     },
     "execution_count": 16,
     "metadata": {},
     "output_type": "execute_result"
    }
   ],
   "source": [
    "matchesDf = pd.read_csv(\"./data/matches.csv\")\n",
    "matchesDf = matchesDf.drop(matchesDf.columns[0], axis=1)\n",
    "\n",
    "matchesDf.head()"
   ]
  },
  {
   "cell_type": "code",
   "execution_count": 17,
   "metadata": {},
   "outputs": [
    {
     "data": {
      "text/plain": [
       "<matplotlib.axes._subplots.AxesSubplot at 0x7fe8d5132128>"
      ]
     },
     "execution_count": 17,
     "metadata": {},
     "output_type": "execute_result"
    },
    {
     "data": {
      "image/png": "[encoded data removed]",
      "text/plain": [
       "<Figure size 432x288 with 1 Axes>"
      ]
     },
     "metadata": {},
     "output_type": "display_data"
    }
   ],
   "source": [
    "man_of_match = matchesDf.groupby([\"player_of_match\"])[\"player_of_match\"].count()\n",
    "top_5_mom = man_of_match.nlargest(5)\n",
    "sns.barplot(top_5_mom.index, top_5_mom.values)"
   ]
  },
  {
   "cell_type": "code",
   "execution_count": 18,
   "metadata": {},
   "outputs": [
    {
     "data": {
      "text/plain": [
       "<matplotlib.axes._subplots.AxesSubplot at 0x7fe8d1f53278>"
      ]
     },
     "execution_count": 18,
     "metadata": {},
     "output_type": "execute_result"
    },
    {
     "data": {
      "image/png": "[encoded data removed]",
      "text/plain": [
       "<Figure size 432x288 with 1 Axes>"
      ]
     },
     "metadata": {},
     "output_type": "display_data"
    }
   ],
   "source": [
    "man_of_match = matchesDf.groupby([\"player_of_match\"])[\"player_of_match\"].count()\n",
    "top_5_mom = man_of_match.nlargest(5)\n",
    "sns.barplot(top_5_mom.index, top_5_mom.values)"
   ]
  },
  {
   "cell_type": "code",
   "execution_count": 1,
   "metadata": {},
   "outputs": [],
   "source": []
  }
 ],
 "metadata": {
  "kernelspec": {
   "display_name": "Python 3",
   "language": "python",
   "name": "python3"
  },
  "language_info": {
   "codemirror_mode": {
    "name": "ipython",
    "version": 3
   },
   "file_extension": ".py",
   "mimetype": "text/x-python",
   "name": "python",
   "nbconvert_exporter": "python",
   "pygments_lexer": "ipython3",
   "version": "3.6.5"
  }
 },
 "nbformat": 4,
 "nbformat_minor": 2
}
